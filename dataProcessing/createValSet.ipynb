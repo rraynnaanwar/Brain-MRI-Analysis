{
 "cells": [
  {
   "cell_type": "code",
   "execution_count": 3,
   "metadata": {},
   "outputs": [],
   "source": [
    "import os\n",
    "import shutil \n",
    "import numpy as np\n",
    "from PIL import Image\n",
    "import sys\n",
    "sys.path.append('../')\n",
    "from torch.utils.data import DataLoader\n",
    "from CustomDataclass import BrainMRIData\n",
    "import torchvision.transforms as transforms \n",
    "import torch"
   ]
  },
  {
   "cell_type": "markdown",
   "metadata": {},
   "source": [
    "Create subdirectories in VAL folder\n"
   ]
  },
  {
   "cell_type": "code",
   "execution_count": 6,
   "metadata": {},
   "outputs": [],
   "source": [
    "trainPath = r'C:\\Users\\rrayn\\OneDrive\\Desktop\\Personal-Project\\Brain MRI Analysis\\Brain-MRI-Analysis\\Br35H-Mask-RCNN\\TRAIN'\n",
    "valPath = r'C:\\Users\\rrayn\\OneDrive\\Desktop\\Personal-Project\\Brain MRI Analysis\\Brain-MRI-Analysis\\Br35H-Mask-RCNN\\VAL'\n",
    "classes = ['yes', 'no']\n",
    "\n",
    "for className in classes:\n",
    "    os.makedirs(os.path.join(valPath, className), exist_ok=True)"
   ]
  },
  {
   "cell_type": "markdown",
   "metadata": {},
   "source": [
    "Move some data from train to val"
   ]
  },
  {
   "cell_type": "code",
   "execution_count": 7,
   "metadata": {},
   "outputs": [],
   "source": [
    "valPercentage = 0.2\n",
    "\n",
    "for className in classes:\n",
    "    trainClassPath = os.path.join(trainPath , className)\n",
    "    valClassPath = os.path.join(valPath, className)\n",
    "    allFiles = os.listdir(trainClassPath)\n",
    "    np.random.shuffle(allFiles)\n",
    "    splitIndex = int(valPercentage * len(allFiles))\n",
    "    valFiles = allFiles[:splitIndex]\n",
    "    for fileName in valFiles:\n",
    "        src = os.path.join(trainClassPath, fileName)\n",
    "        dst = os.path.join(valClassPath, fileName)\n",
    "        shutil.move(src,dst)"
   ]
  },
  {
   "cell_type": "markdown",
   "metadata": {},
   "source": [
    "Change image color channels to RGB \n"
   ]
  },
  {
   "cell_type": "code",
   "execution_count": 4,
   "metadata": {},
   "outputs": [],
   "source": [
    "trainPath = r'C:\\Users\\rrayn\\OneDrive\\Desktop\\Personal-Project\\Brain MRI Analysis\\Brain-MRI-Analysis\\Br35H-Mask-RCNN\\TRAIN'\n",
    "valPath = r'C:\\Users\\rrayn\\OneDrive\\Desktop\\Personal-Project\\Brain MRI Analysis\\Brain-MRI-Analysis\\Br35H-Mask-RCNN\\VAL'\n",
    "for root, dirs, files in os.walk(trainPath):\n",
    "        for file in files:\n",
    "            if file.lower().endswith(('.png', '.jpg', '.jpeg')):\n",
    "                img_path = os.path.join(root, file)\n",
    "                img = Image.open(img_path)\n",
    "                img_rgb = img.convert('RGB')\n",
    "                img_rgb.save(img_path)  # Overwrite the original image\n",
    "\n",
    "for root, dirs, files in os.walk(valPath):\n",
    "        for file in files:\n",
    "            if file.lower().endswith(('.png', '.jpg', '.jpeg')):\n",
    "                img_path = os.path.join(root, file)\n",
    "                img = Image.open(img_path)\n",
    "                img_rgb = img.convert('RGB')\n",
    "                img_rgb.save(img_path)  # Overwrite the original image"
   ]
  },
  {
   "cell_type": "markdown",
   "metadata": {},
   "source": [
    "Calculate mean and std for dataset to normalize pixel values between 0 and 1"
   ]
  },
  {
   "cell_type": "code",
   "execution_count": 4,
   "metadata": {},
   "outputs": [
    {
     "name": "stdout",
     "output_type": "stream",
     "text": [
      "tensor([0.2802, 0.2804, 0.2806]) tensor([0.2664, 0.2664, 0.2665])\n"
     ]
    }
   ],
   "source": [
    "trainPath = r'C:\\Users\\rrayn\\OneDrive\\Desktop\\Personal-Project\\Brain MRI Analysis\\Brain-MRI-Analysis\\Br35H-Mask-RCNN\\TRAIN'\n",
    "valPath = r'C:\\Users\\rrayn\\OneDrive\\Desktop\\Personal-Project\\Brain MRI Analysis\\Brain-MRI-Analysis\\Br35H-Mask-RCNN\\VAL'\n",
    "transform = transforms.Compose([transforms.Resize((200, 200)), transforms.ToTensor()])\n",
    "    \n",
    "    # Load the dataset using the custom BrainMRIData class\n",
    "dataset = BrainMRIData(trainPath, transform=transform)\n",
    "    \n",
    "    # Create a DataLoader for the dataset\n",
    "loader = DataLoader(dataset, batch_size=64, shuffle=False, num_workers=4)\n",
    "    \n",
    "    # Initialize variables to accumulate mean and standard deviation\n",
    "mean = 0.0\n",
    "std = 0.0\n",
    "total_images = 0\n",
    "    \n",
    "    # Iterate over the DataLoader to calculate mean and standard deviation\n",
    "for images, _ in loader:\n",
    "        batch_mean = torch.mean(images, dim=[0, 2, 3])\n",
    "        batch_std = torch.std(images, dim=[0, 2, 3])\n",
    "        \n",
    "        mean += batch_mean * images.size(0)\n",
    "        std += batch_std * images.size(0)\n",
    "        total_images += images.size(0)\n",
    "    \n",
    "    # Calculate final mean and std\n",
    "mean /= total_images\n",
    "std /= total_images\n",
    "    \n",
    "print(mean,std)\n"
   ]
  }
 ],
 "metadata": {
  "kernelspec": {
   "display_name": "Python 3",
   "language": "python",
   "name": "python3"
  },
  "language_info": {
   "codemirror_mode": {
    "name": "ipython",
    "version": 3
   },
   "file_extension": ".py",
   "mimetype": "text/x-python",
   "name": "python",
   "nbconvert_exporter": "python",
   "pygments_lexer": "ipython3",
   "version": "3.12.4"
  }
 },
 "nbformat": 4,
 "nbformat_minor": 2
}
