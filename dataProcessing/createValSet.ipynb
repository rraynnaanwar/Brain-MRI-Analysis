{
 "cells": [
  {
   "cell_type": "code",
   "execution_count": 2,
   "metadata": {},
   "outputs": [],
   "source": [
    "import os\n",
    "import shutil \n",
    "import numpy as np\n",
    "from PIL import Image"
   ]
  },
  {
   "cell_type": "markdown",
   "metadata": {},
   "source": [
    "Create subdirectories in VAL folder\n"
   ]
  },
  {
   "cell_type": "code",
   "execution_count": 6,
   "metadata": {},
   "outputs": [],
   "source": [
    "trainPath = r'C:\\Users\\rrayn\\OneDrive\\Desktop\\Personal-Project\\Brain MRI Analysis\\Brain-MRI-Analysis\\Br35H-Mask-RCNN\\TRAIN'\n",
    "valPath = r'C:\\Users\\rrayn\\OneDrive\\Desktop\\Personal-Project\\Brain MRI Analysis\\Brain-MRI-Analysis\\Br35H-Mask-RCNN\\VAL'\n",
    "classes = ['yes', 'no']\n",
    "\n",
    "for className in classes:\n",
    "    os.makedirs(os.path.join(valPath, className), exist_ok=True)"
   ]
  },
  {
   "cell_type": "markdown",
   "metadata": {},
   "source": [
    "Move some data from train to val"
   ]
  },
  {
   "cell_type": "code",
   "execution_count": 7,
   "metadata": {},
   "outputs": [],
   "source": [
    "valPercentage = 0.2\n",
    "\n",
    "for className in classes:\n",
    "    trainClassPath = os.path.join(trainPath , className)\n",
    "    valClassPath = os.path.join(valPath, className)\n",
    "    allFiles = os.listdir(trainClassPath)\n",
    "    np.random.shuffle(allFiles)\n",
    "    splitIndex = int(valPercentage * len(allFiles))\n",
    "    valFiles = allFiles[:splitIndex]\n",
    "    for fileName in valFiles:\n",
    "        src = os.path.join(trainClassPath, fileName)\n",
    "        dst = os.path.join(valClassPath, fileName)\n",
    "        shutil.move(src,dst)"
   ]
  },
  {
   "cell_type": "markdown",
   "metadata": {},
   "source": [
    "Change image color channels to RGB \n"
   ]
  },
  {
   "cell_type": "code",
   "execution_count": 4,
   "metadata": {},
   "outputs": [],
   "source": [
    "trainPath = r'C:\\Users\\rrayn\\OneDrive\\Desktop\\Personal-Project\\Brain MRI Analysis\\Brain-MRI-Analysis\\Br35H-Mask-RCNN\\TRAIN'\n",
    "valPath = r'C:\\Users\\rrayn\\OneDrive\\Desktop\\Personal-Project\\Brain MRI Analysis\\Brain-MRI-Analysis\\Br35H-Mask-RCNN\\VAL'\n",
    "for root, dirs, files in os.walk(trainPath):\n",
    "        for file in files:\n",
    "            if file.lower().endswith(('.png', '.jpg', '.jpeg')):\n",
    "                img_path = os.path.join(root, file)\n",
    "                img = Image.open(img_path)\n",
    "                img_rgb = img.convert('RGB')\n",
    "                img_rgb.save(img_path)  # Overwrite the original image\n",
    "\n",
    "for root, dirs, files in os.walk(valPath):\n",
    "        for file in files:\n",
    "            if file.lower().endswith(('.png', '.jpg', '.jpeg')):\n",
    "                img_path = os.path.join(root, file)\n",
    "                img = Image.open(img_path)\n",
    "                img_rgb = img.convert('RGB')\n",
    "                img_rgb.save(img_path)  # Overwrite the original image"
   ]
  }
 ],
 "metadata": {
  "kernelspec": {
   "display_name": "Python 3",
   "language": "python",
   "name": "python3"
  },
  "language_info": {
   "codemirror_mode": {
    "name": "ipython",
    "version": 3
   },
   "file_extension": ".py",
   "mimetype": "text/x-python",
   "name": "python",
   "nbconvert_exporter": "python",
   "pygments_lexer": "ipython3",
   "version": "3.12.4"
  }
 },
 "nbformat": 4,
 "nbformat_minor": 2
}
