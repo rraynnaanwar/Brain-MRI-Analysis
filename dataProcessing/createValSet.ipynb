{
 "cells": [
  {
   "cell_type": "code",
   "execution_count": 5,
   "metadata": {},
   "outputs": [],
   "source": [
    "import os\n",
    "import shutil \n",
    "import numpy as np\n"
   ]
  },
  {
   "cell_type": "markdown",
   "metadata": {},
   "source": [
    "Create subdirectories in VAL folder\n"
   ]
  },
  {
   "cell_type": "code",
   "execution_count": 6,
   "metadata": {},
   "outputs": [],
   "source": [
    "trainPath = r'C:\\Users\\rrayn\\OneDrive\\Desktop\\Personal-Project\\Brain MRI Analysis\\Brain-MRI-Analysis\\Br35H-Mask-RCNN\\TRAIN'\n",
    "valPath = r'C:\\Users\\rrayn\\OneDrive\\Desktop\\Personal-Project\\Brain MRI Analysis\\Brain-MRI-Analysis\\Br35H-Mask-RCNN\\VAL'\n",
    "classes = ['yes', 'no']\n",
    "\n",
    "for className in classes:\n",
    "    os.makedirs(os.path.join(valPath, className), exist_ok=True)"
   ]
  },
  {
   "cell_type": "markdown",
   "metadata": {},
   "source": [
    "Move some data from train to val"
   ]
  },
  {
   "cell_type": "code",
   "execution_count": 7,
   "metadata": {},
   "outputs": [],
   "source": [
    "valPercentage = 0.2\n",
    "\n",
    "for className in classes:\n",
    "    trainClassPath = os.path.join(trainPath , className)\n",
    "    valClassPath = os.path.join(valPath, className)\n",
    "    allFiles = os.listdir(trainClassPath)\n",
    "    np.random.shuffle(allFiles)\n",
    "    splitIndex = int(valPercentage * len(allFiles))\n",
    "    valFiles = allFiles[:splitIndex]\n",
    "    for fileName in valFiles:\n",
    "        src = os.path.join(trainClassPath, fileName)\n",
    "        dst = os.path.join(valClassPath, fileName)\n",
    "        shutil.move(src,dst)"
   ]
  },
  {
   "cell_type": "code",
   "execution_count": null,
   "metadata": {},
   "outputs": [],
   "source": []
  }
 ],
 "metadata": {
  "kernelspec": {
   "display_name": "Python 3",
   "language": "python",
   "name": "python3"
  },
  "language_info": {
   "codemirror_mode": {
    "name": "ipython",
    "version": 3
   },
   "file_extension": ".py",
   "mimetype": "text/x-python",
   "name": "python",
   "nbconvert_exporter": "python",
   "pygments_lexer": "ipython3",
   "version": "3.12.4"
  }
 },
 "nbformat": 4,
 "nbformat_minor": 2
}
